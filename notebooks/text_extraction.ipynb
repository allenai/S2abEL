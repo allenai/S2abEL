{
 "cells": [
  {
   "cell_type": "markdown",
   "metadata": {},
   "source": [
    "## Text Extraction"
   ]
  },
  {
   "cell_type": "markdown",
   "metadata": {},
   "source": [
    "This notebook shows how to use AxCell to extract text from arXiv papers with LaTeX source files."
   ]
  },
  {
   "cell_type": "code",
   "execution_count": 4,
   "metadata": {},
   "outputs": [],
   "source": [
    "from pathlib import Path\n",
    "from axcell.helpers.paper_extractor import PaperExtractor"
   ]
  },
  {
   "cell_type": "markdown",
   "metadata": {},
   "source": [
    "The `ROOT_PATH` is the root path where the following structure is created after constructing the dataset. \n",
    "\n",
    "The `SOURCES_PATH` is the path where the downloaded source files should be stored. [Please see here fore bulk downloading arXiv source files.](https://info.arxiv.org/help/bulk_data_s3.html)"
   ]
  },
  {
   "cell_type": "markdown",
   "metadata": {},
   "source": [
    "```\n",
    "ROOT_PATH\n",
    "├── sources                       # arXiv source files\n",
    "├── unpacked_sources              # extracted latex sources (generated automatically)\n",
    "├── htmls                         # converted html files (generated automatically)\n",
    "└── papers                        # extracted text and tables (generated automatically)\n",
    "```"
   ]
  },
  {
   "cell_type": "code",
   "execution_count": 9,
   "metadata": {},
   "outputs": [],
   "source": [
    "ROOT_PATH = Path('../data/papers_s2abel')\n",
    "SOURCES_PATH = ROOT_PATH / 'sources'"
   ]
  },
  {
   "cell_type": "code",
   "execution_count": null,
   "metadata": {},
   "outputs": [],
   "source": [
    "extract = PaperExtractor(ROOT_PATH)"
   ]
  },
  {
   "cell_type": "markdown",
   "metadata": {},
   "source": [
    "Extract text and tables from a single paper"
   ]
  },
  {
   "cell_type": "code",
   "execution_count": null,
   "metadata": {},
   "outputs": [],
   "source": [
    "extract(SOURCES_PATH / '1606.02891v2')"
   ]
  },
  {
   "cell_type": "markdown",
   "metadata": {},
   "source": [
    "Extract all papers"
   ]
  },
  {
   "cell_type": "code",
   "execution_count": null,
   "metadata": {},
   "outputs": [],
   "source": [
    "for s in SOURCES_PATH.iterdir():\n",
    "    if s.is_file():\n",
    "        extract(s)"
   ]
  },
  {
   "cell_type": "markdown",
   "metadata": {},
   "source": [
    "### Clean up text"
   ]
  },
  {
   "cell_type": "code",
   "execution_count": 5,
   "metadata": {},
   "outputs": [],
   "source": [
    "data_dir = '../data'"
   ]
  },
  {
   "cell_type": "markdown",
   "metadata": {},
   "source": [
    "Extract the row text into a Dataframe column."
   ]
  },
  {
   "cell_type": "code",
   "execution_count": 10,
   "metadata": {},
   "outputs": [],
   "source": [
    "import json\n",
    "import pandas as pd\n",
    "import os\n",
    "\n",
    "def get_raw_text(arxiv_id):\n",
    "    with open(ROOT_PATH/ arxiv_id/ 'text.json') as f:\n",
    "        text = json.load(f)\n",
    "    return \"\\n\".join([f['text'] for f in text['fragments']])\n",
    "\n",
    "papers = pd.read_json(f'{data_dir}/papers.jsonl', lines=True)\n",
    "papers['raw_text'] = papers['arxiv_id'].apply(get_raw_text)\n",
    "papers.to_pickle(os.path.join(data_dir, 'papers_with_text.pkl'))"
   ]
  }
 ],
 "metadata": {
  "kernelspec": {
   "display_name": "Python 3 (ipykernel)",
   "language": "python",
   "name": "python3"
  },
  "language_info": {
   "codemirror_mode": {
    "name": "ipython",
    "version": 3
   },
   "file_extension": ".py",
   "mimetype": "text/x-python",
   "name": "python",
   "nbconvert_exporter": "python",
   "pygments_lexer": "ipython3",
   "version": "3.9.5"
  }
 },
 "nbformat": 4,
 "nbformat_minor": 2
}
